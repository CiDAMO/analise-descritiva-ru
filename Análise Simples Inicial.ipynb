{
 "cells": [
  {
   "cell_type": "code",
   "execution_count": 11,
   "metadata": {},
   "outputs": [],
   "source": [
    "from datetime import datetime\n",
    "import matplotlib.pyplot as plt\n",
    "import numpy as np\n",
    "import pandas as pd\n",
    "import seaborn as sns\n",
    "%matplotlib inline"
   ]
  },
  {
   "cell_type": "code",
   "execution_count": 287,
   "metadata": {},
   "outputs": [
    {
     "data": {
      "text/html": [
       "<div>\n",
       "<style scoped>\n",
       "    .dataframe tbody tr th:only-of-type {\n",
       "        vertical-align: middle;\n",
       "    }\n",
       "\n",
       "    .dataframe tbody tr th {\n",
       "        vertical-align: top;\n",
       "    }\n",
       "\n",
       "    .dataframe thead th {\n",
       "        text-align: right;\n",
       "    }\n",
       "</style>\n",
       "<table border=\"1\" class=\"dataframe\">\n",
       "  <thead>\n",
       "    <tr style=\"text-align: right;\">\n",
       "      <th></th>\n",
       "      <th>num_pessoas</th>\n",
       "      <th>refeicao</th>\n",
       "      <th>proteina</th>\n",
       "    </tr>\n",
       "    <tr>\n",
       "      <th>data</th>\n",
       "      <th></th>\n",
       "      <th></th>\n",
       "      <th></th>\n",
       "    </tr>\n",
       "  </thead>\n",
       "  <tbody>\n",
       "    <tr>\n",
       "      <th>2019-03-01 06:46:00</th>\n",
       "      <td>5</td>\n",
       "      <td>Café da Manhã</td>\n",
       "      <td>NaN</td>\n",
       "    </tr>\n",
       "    <tr>\n",
       "      <th>2019-03-01 06:47:00</th>\n",
       "      <td>10</td>\n",
       "      <td>Café da Manhã</td>\n",
       "      <td>NaN</td>\n",
       "    </tr>\n",
       "    <tr>\n",
       "      <th>2019-03-01 06:49:00</th>\n",
       "      <td>4</td>\n",
       "      <td>Café da Manhã</td>\n",
       "      <td>NaN</td>\n",
       "    </tr>\n",
       "    <tr>\n",
       "      <th>2019-03-01 06:50:00</th>\n",
       "      <td>5</td>\n",
       "      <td>Café da Manhã</td>\n",
       "      <td>NaN</td>\n",
       "    </tr>\n",
       "    <tr>\n",
       "      <th>2019-03-01 06:51:00</th>\n",
       "      <td>3</td>\n",
       "      <td>Café da Manhã</td>\n",
       "      <td>NaN</td>\n",
       "    </tr>\n",
       "  </tbody>\n",
       "</table>\n",
       "</div>"
      ],
      "text/plain": [
       "                     num_pessoas       refeicao proteina\n",
       "data                                                    \n",
       "2019-03-01 06:46:00            5  Café da Manhã      NaN\n",
       "2019-03-01 06:47:00           10  Café da Manhã      NaN\n",
       "2019-03-01 06:49:00            4  Café da Manhã      NaN\n",
       "2019-03-01 06:50:00            5  Café da Manhã      NaN\n",
       "2019-03-01 06:51:00            3  Café da Manhã      NaN"
      ]
     },
     "execution_count": 287,
     "metadata": {},
     "output_type": "execute_result"
    }
   ],
   "source": [
    "data = pd.read_csv(\"../dados-ru/Tabela_1min.csv\",\n",
    "                   parse_dates=['Datetime']\n",
    "                   # index_col='data' # Quando o cabeçalho for corrigido\n",
    "                  )\n",
    "data = data.rename(columns={'Datetime':'data',\n",
    "                            'Num_pessoas':'num_pessoas',\n",
    "                            'Refeição':'refeicao',\n",
    "                            'Carne':'proteina'\n",
    "                           })\n",
    "\n",
    "data = data.set_index(\"data\")\n",
    "data.head()"
   ]
  },
  {
   "cell_type": "code",
   "execution_count": 400,
   "metadata": {},
   "outputs": [
    {
     "data": {
      "text/plain": [
       "<matplotlib.axes._subplots.AxesSubplot at 0x7f373a345b50>"
      ]
     },
     "execution_count": 400,
     "metadata": {},
     "output_type": "execute_result"
    },
    {
     "data": {
      "image/png": "[encoded data removed]",
      "text/plain": [
       "<Figure size 432x288 with 1 Axes>"
      ]
     },
     "metadata": {
      "needs_background": "light"
     },
     "output_type": "display_data"
    }
   ],
   "source": [
    "data[data.refeicao == 'Almoço'].num_pessoas.plot()"
   ]
  },
  {
   "cell_type": "code",
   "execution_count": 421,
   "metadata": {},
   "outputs": [
    {
     "data": {
      "text/html": [
       "<div>\n",
       "<style scoped>\n",
       "    .dataframe tbody tr th:only-of-type {\n",
       "        vertical-align: middle;\n",
       "    }\n",
       "\n",
       "    .dataframe tbody tr th {\n",
       "        vertical-align: top;\n",
       "    }\n",
       "\n",
       "    .dataframe thead th {\n",
       "        text-align: right;\n",
       "    }\n",
       "</style>\n",
       "<table border=\"1\" class=\"dataframe\">\n",
       "  <thead>\n",
       "    <tr style=\"text-align: right;\">\n",
       "      <th></th>\n",
       "      <th>num_pessoas</th>\n",
       "      <th>refeicao</th>\n",
       "      <th>proteina</th>\n",
       "    </tr>\n",
       "    <tr>\n",
       "      <th>data</th>\n",
       "      <th></th>\n",
       "      <th></th>\n",
       "      <th></th>\n",
       "    </tr>\n",
       "  </thead>\n",
       "  <tbody>\n",
       "    <tr>\n",
       "      <th>2019-03-01 06:46:00</th>\n",
       "      <td>5</td>\n",
       "      <td>Café da Manhã</td>\n",
       "      <td>NaN</td>\n",
       "    </tr>\n",
       "    <tr>\n",
       "      <th>2019-03-01 06:47:00</th>\n",
       "      <td>10</td>\n",
       "      <td>Café da Manhã</td>\n",
       "      <td>NaN</td>\n",
       "    </tr>\n",
       "    <tr>\n",
       "      <th>2019-03-01 06:49:00</th>\n",
       "      <td>4</td>\n",
       "      <td>Café da Manhã</td>\n",
       "      <td>NaN</td>\n",
       "    </tr>\n",
       "    <tr>\n",
       "      <th>2019-03-01 06:50:00</th>\n",
       "      <td>5</td>\n",
       "      <td>Café da Manhã</td>\n",
       "      <td>NaN</td>\n",
       "    </tr>\n",
       "    <tr>\n",
       "      <th>2019-03-01 06:51:00</th>\n",
       "      <td>3</td>\n",
       "      <td>Café da Manhã</td>\n",
       "      <td>NaN</td>\n",
       "    </tr>\n",
       "    <tr>\n",
       "      <th>...</th>\n",
       "      <td>...</td>\n",
       "      <td>...</td>\n",
       "      <td>...</td>\n",
       "    </tr>\n",
       "    <tr>\n",
       "      <th>2019-03-15 19:26:00</th>\n",
       "      <td>1</td>\n",
       "      <td>Jantar</td>\n",
       "      <td>NaN</td>\n",
       "    </tr>\n",
       "    <tr>\n",
       "      <th>2019-03-15 19:27:00</th>\n",
       "      <td>6</td>\n",
       "      <td>Jantar</td>\n",
       "      <td>NaN</td>\n",
       "    </tr>\n",
       "    <tr>\n",
       "      <th>2019-03-15 19:28:00</th>\n",
       "      <td>4</td>\n",
       "      <td>Jantar</td>\n",
       "      <td>NaN</td>\n",
       "    </tr>\n",
       "    <tr>\n",
       "      <th>2019-03-15 19:29:00</th>\n",
       "      <td>5</td>\n",
       "      <td>Jantar</td>\n",
       "      <td>NaN</td>\n",
       "    </tr>\n",
       "    <tr>\n",
       "      <th>2019-03-15 19:30:00</th>\n",
       "      <td>2</td>\n",
       "      <td>Jantar</td>\n",
       "      <td>NaN</td>\n",
       "    </tr>\n",
       "  </tbody>\n",
       "</table>\n",
       "<p>2740 rows × 3 columns</p>\n",
       "</div>"
      ],
      "text/plain": [
       "                     num_pessoas       refeicao proteina\n",
       "data                                                    \n",
       "2019-03-01 06:46:00            5  Café da Manhã      NaN\n",
       "2019-03-01 06:47:00           10  Café da Manhã      NaN\n",
       "2019-03-01 06:49:00            4  Café da Manhã      NaN\n",
       "2019-03-01 06:50:00            5  Café da Manhã      NaN\n",
       "2019-03-01 06:51:00            3  Café da Manhã      NaN\n",
       "...                          ...            ...      ...\n",
       "2019-03-15 19:26:00            1         Jantar      NaN\n",
       "2019-03-15 19:27:00            6         Jantar      NaN\n",
       "2019-03-15 19:28:00            4         Jantar      NaN\n",
       "2019-03-15 19:29:00            5         Jantar      NaN\n",
       "2019-03-15 19:30:00            2         Jantar      NaN\n",
       "\n",
       "[2740 rows x 3 columns]"
      ]
     },
     "execution_count": 421,
     "metadata": {},
     "output_type": "execute_result"
    }
   ],
   "source": [
    "data['2019-03-01':'2019-03-15']"
   ]
  },
  {
   "cell_type": "code",
   "execution_count": 292,
   "metadata": {},
   "outputs": [
    {
     "data": {
      "text/html": [
       "<div>\n",
       "<style scoped>\n",
       "    .dataframe tbody tr th:only-of-type {\n",
       "        vertical-align: middle;\n",
       "    }\n",
       "\n",
       "    .dataframe tbody tr th {\n",
       "        vertical-align: top;\n",
       "    }\n",
       "\n",
       "    .dataframe thead th {\n",
       "        text-align: right;\n",
       "    }\n",
       "</style>\n",
       "<table border=\"1\" class=\"dataframe\">\n",
       "  <thead>\n",
       "    <tr style=\"text-align: right;\">\n",
       "      <th></th>\n",
       "      <th>num_pessoas</th>\n",
       "      <th>refeicao</th>\n",
       "      <th>proteina</th>\n",
       "    </tr>\n",
       "    <tr>\n",
       "      <th>data</th>\n",
       "      <th></th>\n",
       "      <th></th>\n",
       "      <th></th>\n",
       "    </tr>\n",
       "  </thead>\n",
       "  <tbody>\n",
       "    <tr>\n",
       "      <th>2019-03-01 11:00:00</th>\n",
       "      <td>6</td>\n",
       "      <td>Almoço</td>\n",
       "      <td>Frango assado</td>\n",
       "    </tr>\n",
       "    <tr>\n",
       "      <th>2019-03-01 11:01:00</th>\n",
       "      <td>31</td>\n",
       "      <td>Almoço</td>\n",
       "      <td>Frango assado</td>\n",
       "    </tr>\n",
       "    <tr>\n",
       "      <th>2019-03-01 11:02:00</th>\n",
       "      <td>32</td>\n",
       "      <td>Almoço</td>\n",
       "      <td>Frango assado</td>\n",
       "    </tr>\n",
       "    <tr>\n",
       "      <th>2019-03-01 11:03:00</th>\n",
       "      <td>27</td>\n",
       "      <td>Almoço</td>\n",
       "      <td>Frango assado</td>\n",
       "    </tr>\n",
       "    <tr>\n",
       "      <th>2019-03-01 11:04:00</th>\n",
       "      <td>20</td>\n",
       "      <td>Almoço</td>\n",
       "      <td>Frango assado</td>\n",
       "    </tr>\n",
       "    <tr>\n",
       "      <th>...</th>\n",
       "      <td>...</td>\n",
       "      <td>...</td>\n",
       "      <td>...</td>\n",
       "    </tr>\n",
       "    <tr>\n",
       "      <th>2019-03-01 13:27:00</th>\n",
       "      <td>4</td>\n",
       "      <td>Almoço</td>\n",
       "      <td>Frango assado</td>\n",
       "    </tr>\n",
       "    <tr>\n",
       "      <th>2019-03-01 13:28:00</th>\n",
       "      <td>3</td>\n",
       "      <td>Almoço</td>\n",
       "      <td>Frango assado</td>\n",
       "    </tr>\n",
       "    <tr>\n",
       "      <th>2019-03-01 13:30:00</th>\n",
       "      <td>2</td>\n",
       "      <td>Almoço</td>\n",
       "      <td>Frango assado</td>\n",
       "    </tr>\n",
       "    <tr>\n",
       "      <th>2019-03-01 13:31:00</th>\n",
       "      <td>3</td>\n",
       "      <td>Almoço</td>\n",
       "      <td>Frango assado</td>\n",
       "    </tr>\n",
       "    <tr>\n",
       "      <th>2019-03-01 13:33:00</th>\n",
       "      <td>1</td>\n",
       "      <td>Almoço</td>\n",
       "      <td>Frango assado</td>\n",
       "    </tr>\n",
       "  </tbody>\n",
       "</table>\n",
       "<p>152 rows × 3 columns</p>\n",
       "</div>"
      ],
      "text/plain": [
       "                     num_pessoas refeicao       proteina\n",
       "data                                                    \n",
       "2019-03-01 11:00:00            6   Almoço  Frango assado\n",
       "2019-03-01 11:01:00           31   Almoço  Frango assado\n",
       "2019-03-01 11:02:00           32   Almoço  Frango assado\n",
       "2019-03-01 11:03:00           27   Almoço  Frango assado\n",
       "2019-03-01 11:04:00           20   Almoço  Frango assado\n",
       "...                          ...      ...            ...\n",
       "2019-03-01 13:27:00            4   Almoço  Frango assado\n",
       "2019-03-01 13:28:00            3   Almoço  Frango assado\n",
       "2019-03-01 13:30:00            2   Almoço  Frango assado\n",
       "2019-03-01 13:31:00            3   Almoço  Frango assado\n",
       "2019-03-01 13:33:00            1   Almoço  Frango assado\n",
       "\n",
       "[152 rows x 3 columns]"
      ]
     },
     "execution_count": 292,
     "metadata": {},
     "output_type": "execute_result"
    }
   ],
   "source": [
    "data_dia = data['2019-03-01']\n",
    "data_dia[data_dia.refeicao == 'Almoço']"
   ]
  },
  {
   "cell_type": "code",
   "execution_count": 413,
   "metadata": {},
   "outputs": [
    {
     "data": {
      "text/plain": [
       "[<matplotlib.lines.Line2D at 0x7f3738f01550>]"
      ]
     },
     "execution_count": 413,
     "metadata": {},
     "output_type": "execute_result"
    },
    {
     "data": {
      "image/png": "[encoded data removed]",
      "text/plain": [
       "<Figure size 432x288 with 1 Axes>"
      ]
     },
     "metadata": {
      "needs_background": "light"
     },
     "output_type": "display_data"
    }
   ],
   "source": [
    "df_dia = data['2019-03-01']\n",
    "df_dia = df_dia[df_dia.refeicao == 'Almoço']\n",
    "plt.plot(df_dia.num_pessoas)"
   ]
  },
  {
   "cell_type": "code",
   "execution_count": 416,
   "metadata": {},
   "outputs": [
    {
     "data": {
      "text/plain": [
       "[<matplotlib.lines.Line2D at 0x7f3739462950>]"
      ]
     },
     "execution_count": 416,
     "metadata": {},
     "output_type": "execute_result"
    },
    {
     "data": {
      "image/png": "[encoded data removed]",
      "text/plain": [
       "<Figure size 432x288 with 1 Axes>"
      ]
     },
     "metadata": {
      "needs_background": "light"
     },
     "output_type": "display_data"
    }
   ],
   "source": [
    "df_dia_5 = df_dia.resample(\"5T\").mean()\n",
    "#plt.plot(df_dia.num_pessoas)\n",
    "plt.plot(df_dia_5)\n",
    "df_dia_r5 = df_dia.rolling(5, center=True).mean()\n",
    "plt.plot(df_dia_r5)"
   ]
  },
  {
   "cell_type": "code",
   "execution_count": null,
   "metadata": {},
   "outputs": [],
   "source": []
  },
  {
   "cell_type": "code",
   "execution_count": 420,
   "metadata": {},
   "outputs": [
    {
     "data": {
      "image/png": "[encoded data removed]",
      "text/plain": [
       "<Figure size 432x288 with 1 Axes>"
      ]
     },
     "metadata": {
      "needs_background": "light"
     },
     "output_type": "display_data"
    }
   ],
   "source": [
    "df_almoco = data[data.refeicao == 'Almoço']\n",
    "dias = np.unique([x.date() for x in df_almoco.index])\n",
    "dias = dias[0:3]\n",
    "for dia in dias:\n",
    "    idx = [x.date() == dia for x in df_almoco.index]\n",
    "    df_dia = df_almoco[idx]\n",
    "    plt.plot(df_dia.refeicao)"
   ]
  },
  {
   "cell_type": "code",
   "execution_count": 402,
   "metadata": {},
   "outputs": [
    {
     "data": {
      "image/png": "[encoded data removed]",
      "text/plain": [
       "<Figure size 432x288 with 1 Axes>"
      ]
     },
     "metadata": {
      "needs_background": "light"
     },
     "output_type": "display_data"
    }
   ],
   "source": [
    "dias = dias[0:2]\n",
    "for dia in dias:\n",
    "    idx = [x.date() == dia for x in data.index]\n",
    "    df_dia = data[idx]\n",
    "    plt.plot(df_dia[df_dia.refeicao == 'Almoço'].num_pessoas)"
   ]
  }
 ],
 "metadata": {
  "@webio": {
   "lastCommId": null,
   "lastKernelId": null
  },
  "kernelspec": {
   "display_name": "Python 3",
   "language": "python",
   "name": "python3"
  },
  "language_info": {
   "codemirror_mode": {
    "name": "ipython",
    "version": 3
   },
   "file_extension": ".py",
   "mimetype": "text/x-python",
   "name": "python",
   "nbconvert_exporter": "python",
   "pygments_lexer": "ipython3",
   "version": "3.7.4"
  }
 },
 "nbformat": 4,
 "nbformat_minor": 2
}
