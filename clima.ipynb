{
 "cells": [
  {
   "cell_type": "code",
   "execution_count": 5,
   "metadata": {},
   "outputs": [],
   "source": [
    "import time\n",
    "from datetime import datetime, timezone, timedelta\n",
    "import numpy as np\n",
    "import pandas as pd"
   ]
  },
  {
   "cell_type": "code",
   "execution_count": 4,
   "metadata": {},
   "outputs": [
    {
     "data": {
      "text/plain": [
       "'Sun Sep  8 14:00:03 2019'"
      ]
     },
     "execution_count": 4,
     "metadata": {},
     "output_type": "execute_result"
    }
   ],
   "source": [
    "time.asctime()"
   ]
  },
  {
   "cell_type": "code",
   "execution_count": 5,
   "metadata": {},
   "outputs": [
    {
     "data": {
      "text/plain": [
       "'Sun Sep  8 14:00:13 2019'"
      ]
     },
     "execution_count": 5,
     "metadata": {},
     "output_type": "execute_result"
    }
   ],
   "source": [
    "time.ctime()"
   ]
  },
  {
   "cell_type": "code",
   "execution_count": 6,
   "metadata": {},
   "outputs": [
    {
     "data": {
      "text/plain": [
       "datetime.datetime(2019, 9, 8, 14, 0, 21, 937547)"
      ]
     },
     "execution_count": 6,
     "metadata": {},
     "output_type": "execute_result"
    }
   ],
   "source": [
    "datetime.now()"
   ]
  },
  {
   "cell_type": "code",
   "execution_count": 151,
   "metadata": {},
   "outputs": [
    {
     "name": "stdout",
     "output_type": "stream",
     "text": [
      "-1 day, 21:00:00\n"
     ]
    }
   ],
   "source": [
    "print(timedelta(hours=-3))"
   ]
  },
  {
   "cell_type": "code",
   "execution_count": 152,
   "metadata": {},
   "outputs": [
    {
     "name": "stdout",
     "output_type": "stream",
     "text": [
      "UTC-03:00\n"
     ]
    }
   ],
   "source": [
    "print(timezone(timedelta(hours=-3)))"
   ]
  },
  {
   "cell_type": "code",
   "execution_count": 153,
   "metadata": {},
   "outputs": [],
   "source": [
    "d = datetime.now()"
   ]
  },
  {
   "cell_type": "code",
   "execution_count": 154,
   "metadata": {},
   "outputs": [
    {
     "data": {
      "text/plain": [
       "datetime.datetime(2019, 9, 8, 11, 28, 38, 588295)"
      ]
     },
     "execution_count": 154,
     "metadata": {},
     "output_type": "execute_result"
    }
   ],
   "source": [
    "d"
   ]
  },
  {
   "cell_type": "code",
   "execution_count": 157,
   "metadata": {},
   "outputs": [
    {
     "data": {
      "text/plain": [
       "datetime.datetime(2019, 9, 8, 11, 28, 38, 588295, tzinfo=datetime.timezone(datetime.timedelta(days=-1, seconds=75600)))"
      ]
     },
     "execution_count": 157,
     "metadata": {},
     "output_type": "execute_result"
    }
   ],
   "source": [
    "d.astimezone(timezone(timedelta(hours=-3)))"
   ]
  },
  {
   "cell_type": "markdown",
   "metadata": {},
   "source": [
    "# Testando a API do clima"
   ]
  },
  {
   "cell_type": "code",
   "execution_count": 2,
   "metadata": {},
   "outputs": [],
   "source": [
    "import pyowm"
   ]
  },
  {
   "cell_type": "code",
   "execution_count": 3,
   "metadata": {},
   "outputs": [],
   "source": [
    "class Openwinterface():\n",
    "    def __init__(self, idioma, cidade, pais, chave):\n",
    " \n",
    "        #retorna um dicionário com os dados do openweather\n",
    "         \n",
    "        self.retorno = { }\n",
    "        self.idioma = idioma\n",
    "        self.cidade = cidade\n",
    "        self.pais = pais\n",
    "        self.chave = chave\n",
    " \n",
    "        # só continua se a chave for uma chave válida\n",
    "        if self.chave[0] == 'x':\n",
    "            return\n",
    " \n",
    "        self.get_weather()\n",
    " \n",
    " \n",
    "    def get_weather(self):\n",
    " \n",
    "        owm = pyowm.OWM(self.chave, language=self.idioma )   # aqui criamos a nossa interface com a biblioteca\n",
    "         \n",
    "        posicao = \"%s,%s\" % (self.cidade, self.pais)        # definimos o local aonde serão obtidos os dados\n",
    "         \n",
    "        observation = owm.weather_at_place(posicao)\n",
    "         \n",
    "        dados_clima = observation.get_weather()           # lemos todos os dados disponíveis\n",
    "         \n",
    "        # aqui convertemos os dados em um dicionario para retornamos todos os dados disponíveis.           \n",
    " \n",
    "        self.retorno['temperatura']  = dados_clima.get_temperature('celsius')\n",
    "        self.retorno['umidade'] = dados_clima.get_humidity()\n",
    "        self.retorno['chuva'] = dados_clima.get_rain()\n",
    "        self.retorno['clima detalhado'] = dados_clima.get_detailed_status()\n",
    "        self.retorno['clima'] = dados_clima.get_status()\n",
    "        self.retorno['nuvens'] = dados_clima.get_clouds()\n",
    "        self.retorno['data'] = dados_clima.get_reference_time(timeformat='iso')  #preciso tratar para ficar no utc-3\n",
    "        return self.retorno"
   ]
  },
  {
   "cell_type": "code",
   "execution_count": 4,
   "metadata": {},
   "outputs": [],
   "source": [
    "op = Openwinterface(\"PT\",\"curitiba\",\"Brazil\",\"081ee8d692a1479b7f3edfc5862b3d2a\")"
   ]
  },
  {
   "cell_type": "code",
   "execution_count": 5,
   "metadata": {
    "scrolled": true
   },
   "outputs": [],
   "source": [
    "dic = op.get_weather()"
   ]
  },
  {
   "cell_type": "code",
   "execution_count": 6,
   "metadata": {
    "scrolled": true
   },
   "outputs": [
    {
     "data": {
      "text/plain": [
       "{'temperatura': {'temp': 20.44,\n",
       "  'temp_max': 23.33,\n",
       "  'temp_min': 17.22,\n",
       "  'temp_kf': None},\n",
       " 'umidade': 64,\n",
       " 'chuva': {},\n",
       " 'clima detalhado': 'céu limpo',\n",
       " 'clima': 'Clear',\n",
       " 'nuvens': 0,\n",
       " 'data': '2019-09-09 00:36:41+00'}"
      ]
     },
     "execution_count": 6,
     "metadata": {},
     "output_type": "execute_result"
    }
   ],
   "source": [
    "dic"
   ]
  },
  {
   "cell_type": "code",
   "execution_count": 20,
   "metadata": {},
   "outputs": [],
   "source": [
    "tempo = []\n",
    "for k in dic:\n",
    "    if k == 'temperatura':\n",
    "        for j in dic['temperatura']:\n",
    "            if j != 'temp_kf':\n",
    "                tempo.append(dic['temperatura'][j])\n",
    "    else:\n",
    "        tempo.append(dic[k])"
   ]
  },
  {
   "cell_type": "code",
   "execution_count": 22,
   "metadata": {},
   "outputs": [
    {
     "data": {
      "text/plain": [
       "[20.44,\n",
       " 23.33,\n",
       " 17.22,\n",
       " 64,\n",
       " {},\n",
       " 'céu limpo',\n",
       " 'Clear',\n",
       " 0,\n",
       " '2019-09-09 00:36:41+00']"
      ]
     },
     "execution_count": 22,
     "metadata": {},
     "output_type": "execute_result"
    }
   ],
   "source": [
    "tempo"
   ]
  },
  {
   "cell_type": "code",
   "execution_count": null,
   "metadata": {},
   "outputs": [],
   "source": [
    "tempo = pd.DataFrame([], index = [[hr+' '+day]] ,columns = 'Dia,Dia_semana,Hora,Temperatura,Temp_max,Tem_min,Umidade,Chuva,Clima_detalhado,Clima,Nuvens,Data_verificação'.split(','))"
   ]
  },
  {
   "cell_type": "markdown",
   "metadata": {},
   "source": [
    "# Testando pegar cardápio do RU"
   ]
  },
  {
   "cell_type": "code",
   "execution_count": 6,
   "metadata": {},
   "outputs": [],
   "source": [
    "from urllib.request import urlopen\n",
    "from bs4 import BeautifulSoup\n",
    "html = urlopen(\"http://www.pra.ufpr.br/portal/ru/ru-centro-politecnico/\")\n",
    "res = BeautifulSoup(html.read(),\"html5lib\")"
   ]
  },
  {
   "cell_type": "code",
   "execution_count": 7,
   "metadata": {},
   "outputs": [
    {
     "ename": "NameError",
     "evalue": "name 'soup' is not defined",
     "output_type": "error",
     "traceback": [
      "\u001b[1;31m---------------------------------------------------------------------------\u001b[0m",
      "\u001b[1;31mNameError\u001b[0m                                 Traceback (most recent call last)",
      "\u001b[1;32m<ipython-input-7-637c529f2616>\u001b[0m in \u001b[0;36m<module>\u001b[1;34m\u001b[0m\n\u001b[1;32m----> 1\u001b[1;33m \u001b[0mvet1\u001b[0m \u001b[1;33m=\u001b[0m \u001b[0msoup\u001b[0m\u001b[1;33m.\u001b[0m\u001b[0mget_text\u001b[0m\u001b[1;33m(\u001b[0m\u001b[1;33m)\u001b[0m\u001b[1;33m\u001b[0m\u001b[1;33m\u001b[0m\u001b[0m\n\u001b[0m",
      "\u001b[1;31mNameError\u001b[0m: name 'soup' is not defined"
     ]
    }
   ],
   "source": [
    "vet1 = soup.get_text()"
   ]
  },
  {
   "cell_type": "code",
   "execution_count": null,
   "metadata": {},
   "outputs": [],
   "source": [
    "vet1.split('\\n')"
   ]
  },
  {
   "cell_type": "code",
   "execution_count": 134,
   "metadata": {},
   "outputs": [
    {
     "data": {
      "text/plain": [
       "3722"
      ]
     },
     "execution_count": 134,
     "metadata": {},
     "output_type": "execute_result"
    }
   ],
   "source": [
    "vet1.index('06/09 SEXTA-FEIRAÂ\\xa0') #temos que pegar o dia de hoje"
   ]
  },
  {
   "cell_type": "code",
   "execution_count": 133,
   "metadata": {},
   "outputs": [
    {
     "data": {
      "text/plain": [
       "4603"
      ]
     },
     "execution_count": 133,
     "metadata": {},
     "output_type": "execute_result"
    }
   ],
   "source": [
    "vet1.index('* CardÃ¡pio sujeito a alteraÃ§Ãµes devido a questÃµes operacionais e de abastecimento.')"
   ]
  },
  {
   "cell_type": "code",
   "execution_count": 141,
   "metadata": {},
   "outputs": [],
   "source": [
    "vet1 = vet1[vet1.index('06/09 SEXTA-FEIRAÂ\\xa0'):vet1.index('* CardÃ¡pio sujeito a alteraÃ§Ãµes devido a questÃµes operacionais e de abastecimento.')]"
   ]
  },
  {
   "cell_type": "code",
   "execution_count": 145,
   "metadata": {},
   "outputs": [
    {
     "data": {
      "text/plain": [
       "['06/09 SEXTA-FEIRAÂ\\xa0',\n",
       " 'CAFÃ‰ DA MANHÃƒ',\n",
       " 'CafÃ©/leite/chÃ¡',\n",
       " 'PÃ£o com presuntoÂ\\xa0 ',\n",
       " 'Creme de abacateÂ\\xa0 ',\n",
       " 'ALMOÃ‡O',\n",
       " 'AgriÃ£o e abobrinha ralada',\n",
       " 'Bife aceboladoÂ\\xa0',\n",
       " 'PurÃª misto com batata salsaÂ\\xa0 ',\n",
       " 'Fruta',\n",
       " 'OpÃ§Ã£o vegana: torre de berinjela com pasta de feijÃ£o branco',\n",
       " 'JANTAR',\n",
       " 'Couve e macarronese (tomate, cenoura, ervilha e azeitona)Â\\xa0 ',\n",
       " 'Frango assadoÂ\\xa0',\n",
       " 'Sopa leve (carne bovina, batata, cenoura e arroz)Â\\xa0',\n",
       " 'OpÃ§Ã£o vegana: torta de feijÃ£o fradinho e legumesÂ\\xa0',\n",
       " '09/09 SEGUNDA-FEIRAÂ\\xa0',\n",
       " 'CAFÃ‰ DA MANHÃƒ',\n",
       " 'CafÃ©/leite/chÃ¡',\n",
       " 'PÃ£o comÂ\\xa0patÃª de azeitonaÂ\\xa0  ',\n",
       " 'Fruta',\n",
       " 'ALMOÃ‡O',\n",
       " 'Acelga e beterraba ralada',\n",
       " 'MoÃ\\xadda mexicana (molho de tomate, molho de pimenta e pimentÃµes)Â\\xa0',\n",
       " 'MacarrÃ£o alho e Ã³leoÂ\\xa0',\n",
       " 'Fruta',\n",
       " 'OpÃ§Ã£o vegana: chilli de PTS',\n",
       " 'JANTAR',\n",
       " 'Escarola e rabanete',\n",
       " 'Copa lombo ao molho orientalÂ\\xa0',\n",
       " 'Sopa londrina (carne bovina, batata, cenoura, chuchu, ervilha e macarrÃ£o)Â\\xa0 ',\n",
       " 'OpÃ§Ã£o vegana:Â\\xa0charuto de repolho (grÃ£o de bico)',\n",
       " '',\n",
       " '']"
      ]
     },
     "execution_count": 145,
     "metadata": {},
     "output_type": "execute_result"
    }
   ],
   "source": [
    "vet1.split('\\n')"
   ]
  },
  {
   "cell_type": "code",
   "execution_count": 146,
   "metadata": {},
   "outputs": [],
   "source": [
    "# Trocar as letras estranhas por letras legíveis\n",
    "#.replace('Ã‰','É').replace('ƒ','').replace('Ã©','é').replace('Ã¡','á').replace('Ã£','ã').replace('Â','').replace('Ã‡','Ç').replace('Ãª','ê').replace('Ã§','ç').replace('Ã³','ó').replace('Ãµ','õ').replace('Ã','í')"
   ]
  }
 ],
 "metadata": {
  "kernelspec": {
   "display_name": "Python 3",
   "language": "python",
   "name": "python3"
  },
  "language_info": {
   "codemirror_mode": {
    "name": "ipython",
    "version": 3
   },
   "file_extension": ".py",
   "mimetype": "text/x-python",
   "name": "python",
   "nbconvert_exporter": "python",
   "pygments_lexer": "ipython3",
   "version": "3.7.4"
  }
 },
 "nbformat": 4,
 "nbformat_minor": 2
}
