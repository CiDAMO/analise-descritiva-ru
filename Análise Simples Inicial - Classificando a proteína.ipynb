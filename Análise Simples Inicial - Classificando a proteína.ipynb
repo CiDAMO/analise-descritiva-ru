{
 "cells": [
  {
   "cell_type": "code",
   "execution_count": 1,
   "metadata": {},
   "outputs": [],
   "source": [
    "from datetime import datetime\n",
    "import matplotlib.pyplot as plt\n",
    "import numpy as np\n",
    "import pandas as pd\n",
    "import seaborn as sns\n",
    "%matplotlib inline"
   ]
  },
  {
   "cell_type": "code",
   "execution_count": 2,
   "metadata": {},
   "outputs": [
    {
     "data": {
      "text/html": [
       "<div>\n",
       "<style scoped>\n",
       "    .dataframe tbody tr th:only-of-type {\n",
       "        vertical-align: middle;\n",
       "    }\n",
       "\n",
       "    .dataframe tbody tr th {\n",
       "        vertical-align: top;\n",
       "    }\n",
       "\n",
       "    .dataframe thead th {\n",
       "        text-align: right;\n",
       "    }\n",
       "</style>\n",
       "<table border=\"1\" class=\"dataframe\">\n",
       "  <thead>\n",
       "    <tr style=\"text-align: right;\">\n",
       "      <th></th>\n",
       "      <th>num_pessoas</th>\n",
       "      <th>refeicao</th>\n",
       "      <th>proteina</th>\n",
       "    </tr>\n",
       "    <tr>\n",
       "      <th>data</th>\n",
       "      <th></th>\n",
       "      <th></th>\n",
       "      <th></th>\n",
       "    </tr>\n",
       "  </thead>\n",
       "  <tbody>\n",
       "    <tr>\n",
       "      <th>2019-03-01 06:46:00</th>\n",
       "      <td>5</td>\n",
       "      <td>Café da Manhã</td>\n",
       "      <td>NaN</td>\n",
       "    </tr>\n",
       "    <tr>\n",
       "      <th>2019-03-01 06:47:00</th>\n",
       "      <td>10</td>\n",
       "      <td>Café da Manhã</td>\n",
       "      <td>NaN</td>\n",
       "    </tr>\n",
       "    <tr>\n",
       "      <th>2019-03-01 06:49:00</th>\n",
       "      <td>4</td>\n",
       "      <td>Café da Manhã</td>\n",
       "      <td>NaN</td>\n",
       "    </tr>\n",
       "    <tr>\n",
       "      <th>2019-03-01 06:50:00</th>\n",
       "      <td>5</td>\n",
       "      <td>Café da Manhã</td>\n",
       "      <td>NaN</td>\n",
       "    </tr>\n",
       "    <tr>\n",
       "      <th>2019-03-01 06:51:00</th>\n",
       "      <td>3</td>\n",
       "      <td>Café da Manhã</td>\n",
       "      <td>NaN</td>\n",
       "    </tr>\n",
       "  </tbody>\n",
       "</table>\n",
       "</div>"
      ],
      "text/plain": [
       "                     num_pessoas       refeicao proteina\n",
       "data                                                    \n",
       "2019-03-01 06:46:00            5  Café da Manhã      NaN\n",
       "2019-03-01 06:47:00           10  Café da Manhã      NaN\n",
       "2019-03-01 06:49:00            4  Café da Manhã      NaN\n",
       "2019-03-01 06:50:00            5  Café da Manhã      NaN\n",
       "2019-03-01 06:51:00            3  Café da Manhã      NaN"
      ]
     },
     "execution_count": 2,
     "metadata": {},
     "output_type": "execute_result"
    }
   ],
   "source": [
    "data = pd.read_csv(\"../dados-ru/Tabela_1min.csv\",\n",
    "                   parse_dates=['Datetime']\n",
    "                   # index_col='data' # Quando o cabeçalho for corrigido\n",
    "                  )\n",
    "data = data.rename(columns={'Datetime':'data',\n",
    "                            'Num_pessoas':'num_pessoas',\n",
    "                            'Refeição':'refeicao',\n",
    "                            'Carne':'proteina'\n",
    "                           })\n",
    "\n",
    "data = data.set_index(\"data\")\n",
    "data.head()"
   ]
  },
  {
   "cell_type": "code",
   "execution_count": 18,
   "metadata": {},
   "outputs": [],
   "source": [
    "data = data[data.refeicao == 'Almoço'].resample(\"1D\").aggregate({\n",
    "    'num_pessoas': sum,\n",
    "    'refeicao': max,\n",
    "    'proteina': max\n",
    "}).dropna()"
   ]
  },
  {
   "cell_type": "code",
   "execution_count": 23,
   "metadata": {},
   "outputs": [
    {
     "data": {
      "text/html": [
       "<div>\n",
       "<style scoped>\n",
       "    .dataframe tbody tr th:only-of-type {\n",
       "        vertical-align: middle;\n",
       "    }\n",
       "\n",
       "    .dataframe tbody tr th {\n",
       "        vertical-align: top;\n",
       "    }\n",
       "\n",
       "    .dataframe thead th {\n",
       "        text-align: right;\n",
       "    }\n",
       "</style>\n",
       "<table border=\"1\" class=\"dataframe\">\n",
       "  <thead>\n",
       "    <tr style=\"text-align: right;\">\n",
       "      <th></th>\n",
       "      <th>num_pessoas</th>\n",
       "      <th>refeicao</th>\n",
       "      <th>proteina</th>\n",
       "    </tr>\n",
       "    <tr>\n",
       "      <th>data</th>\n",
       "      <th></th>\n",
       "      <th></th>\n",
       "      <th></th>\n",
       "    </tr>\n",
       "  </thead>\n",
       "  <tbody>\n",
       "    <tr>\n",
       "      <th>2019-03-01</th>\n",
       "      <td>3223</td>\n",
       "      <td>Almoço</td>\n",
       "      <td>Frango assado</td>\n",
       "    </tr>\n",
       "    <tr>\n",
       "      <th>2019-03-07</th>\n",
       "      <td>3451</td>\n",
       "      <td>Almoço</td>\n",
       "      <td>Bife à gaucho</td>\n",
       "    </tr>\n",
       "    <tr>\n",
       "      <th>2019-03-08</th>\n",
       "      <td>3494</td>\n",
       "      <td>Almoço</td>\n",
       "      <td>Frango mostarda</td>\n",
       "    </tr>\n",
       "    <tr>\n",
       "      <th>2019-03-11</th>\n",
       "      <td>3914</td>\n",
       "      <td>Almoço</td>\n",
       "      <td>Churrasco</td>\n",
       "    </tr>\n",
       "    <tr>\n",
       "      <th>2019-03-12</th>\n",
       "      <td>4114</td>\n",
       "      <td>Almoço</td>\n",
       "      <td>Frango ao sugo</td>\n",
       "    </tr>\n",
       "  </tbody>\n",
       "</table>\n",
       "</div>"
      ],
      "text/plain": [
       "            num_pessoas refeicao         proteina\n",
       "data                                             \n",
       "2019-03-01         3223   Almoço    Frango assado\n",
       "2019-03-07         3451   Almoço    Bife à gaucho\n",
       "2019-03-08         3494   Almoço  Frango mostarda\n",
       "2019-03-11         3914   Almoço        Churrasco\n",
       "2019-03-12         4114   Almoço   Frango ao sugo"
      ]
     },
     "execution_count": 23,
     "metadata": {},
     "output_type": "execute_result"
    }
   ],
   "source": [
    "data.head()"
   ]
  },
  {
   "cell_type": "code",
   "execution_count": 36,
   "metadata": {},
   "outputs": [
    {
     "data": {
      "image/png": "[encoded data removed]",
      "text/plain": [
       "<Figure size 864x576 with 1 Axes>"
      ]
     },
     "metadata": {
      "needs_background": "light"
     },
     "output_type": "display_data"
    }
   ],
   "source": [
    "plt.figure(figsize=(12,8))\n",
    "plt.hist(data.proteina)\n",
    "plt.xticks(rotation='vertical')\n",
    "plt.show()"
   ]
  },
  {
   "cell_type": "code",
   "execution_count": 57,
   "metadata": {},
   "outputs": [
    {
     "data": {
      "text/plain": [
       "<matplotlib.axes._subplots.AxesSubplot at 0x7f4ea280b810>"
      ]
     },
     "execution_count": 57,
     "metadata": {},
     "output_type": "execute_result"
    },
    {
     "data": {
      "image/png": "[encoded data removed]",
      "text/plain": [
       "<Figure size 864x720 with 1 Axes>"
      ]
     },
     "metadata": {
      "needs_background": "light"
     },
     "output_type": "display_data"
    }
   ],
   "source": [
    "plt.figure(figsize=(12,10))\n",
    "sns.boxplot(data=data, x='num_pessoas', y='proteina')"
   ]
  },
  {
   "cell_type": "code",
   "execution_count": 69,
   "metadata": {},
   "outputs": [
    {
     "data": {
      "text/plain": [
       "AgglomerativeClustering(affinity='euclidean', compute_full_tree='auto',\n",
       "                        connectivity=None, distance_threshold=None,\n",
       "                        linkage='ward', memory=None, n_clusters=2,\n",
       "                        pooling_func='deprecated')"
      ]
     },
     "execution_count": 69,
     "metadata": {},
     "output_type": "execute_result"
    }
   ],
   "source": [
    "from sklearn.cluster import AgglomerativeClustering\n",
    "\n",
    "X = pd.get_dummies(data.iloc[:,0:])\n",
    "\n",
    "clust = AgglomerativeClustering()\n",
    "clust.fit(X)"
   ]
  },
  {
   "cell_type": "code",
   "execution_count": 73,
   "metadata": {},
   "outputs": [
    {
     "data": {
      "text/plain": [
       "2"
      ]
     },
     "execution_count": 73,
     "metadata": {},
     "output_type": "execute_result"
    }
   ],
   "source": [
    "clust.n_clusters"
   ]
  },
  {
   "cell_type": "code",
   "execution_count": 75,
   "metadata": {},
   "outputs": [
    {
     "data": {
      "text/html": [
       "<div>\n",
       "<style scoped>\n",
       "    .dataframe tbody tr th:only-of-type {\n",
       "        vertical-align: middle;\n",
       "    }\n",
       "\n",
       "    .dataframe tbody tr th {\n",
       "        vertical-align: top;\n",
       "    }\n",
       "\n",
       "    .dataframe thead th {\n",
       "        text-align: right;\n",
       "    }\n",
       "</style>\n",
       "<table border=\"1\" class=\"dataframe\">\n",
       "  <thead>\n",
       "    <tr style=\"text-align: right;\">\n",
       "      <th></th>\n",
       "      <th>num_pessoas</th>\n",
       "      <th>refeicao</th>\n",
       "      <th>proteina</th>\n",
       "    </tr>\n",
       "    <tr>\n",
       "      <th>data</th>\n",
       "      <th></th>\n",
       "      <th></th>\n",
       "      <th></th>\n",
       "    </tr>\n",
       "  </thead>\n",
       "  <tbody>\n",
       "    <tr>\n",
       "      <th>2019-03-01</th>\n",
       "      <td>3223</td>\n",
       "      <td>Almoço</td>\n",
       "      <td>Frango assado</td>\n",
       "    </tr>\n",
       "    <tr>\n",
       "      <th>2019-03-07</th>\n",
       "      <td>3451</td>\n",
       "      <td>Almoço</td>\n",
       "      <td>Bife à gaucho</td>\n",
       "    </tr>\n",
       "    <tr>\n",
       "      <th>2019-03-08</th>\n",
       "      <td>3494</td>\n",
       "      <td>Almoço</td>\n",
       "      <td>Frango mostarda</td>\n",
       "    </tr>\n",
       "    <tr>\n",
       "      <th>2019-03-11</th>\n",
       "      <td>3914</td>\n",
       "      <td>Almoço</td>\n",
       "      <td>Churrasco</td>\n",
       "    </tr>\n",
       "    <tr>\n",
       "      <th>2019-03-12</th>\n",
       "      <td>4114</td>\n",
       "      <td>Almoço</td>\n",
       "      <td>Frango ao sugo</td>\n",
       "    </tr>\n",
       "    <tr>\n",
       "      <th>...</th>\n",
       "      <td>...</td>\n",
       "      <td>...</td>\n",
       "      <td>...</td>\n",
       "    </tr>\n",
       "    <tr>\n",
       "      <th>2019-06-12</th>\n",
       "      <td>3244</td>\n",
       "      <td>Almoço</td>\n",
       "      <td>Carne de panela</td>\n",
       "    </tr>\n",
       "    <tr>\n",
       "      <th>2019-06-13</th>\n",
       "      <td>3436</td>\n",
       "      <td>Almoço</td>\n",
       "      <td>Peixe à milanesa</td>\n",
       "    </tr>\n",
       "    <tr>\n",
       "      <th>2019-06-17</th>\n",
       "      <td>3117</td>\n",
       "      <td>Almoço</td>\n",
       "      <td>Moída</td>\n",
       "    </tr>\n",
       "    <tr>\n",
       "      <th>2019-06-18</th>\n",
       "      <td>3234</td>\n",
       "      <td>Almoço</td>\n",
       "      <td>Bife</td>\n",
       "    </tr>\n",
       "    <tr>\n",
       "      <th>2019-06-19</th>\n",
       "      <td>3575</td>\n",
       "      <td>Almoço</td>\n",
       "      <td>Estrogonofe de frango</td>\n",
       "    </tr>\n",
       "  </tbody>\n",
       "</table>\n",
       "<p>69 rows × 3 columns</p>\n",
       "</div>"
      ],
      "text/plain": [
       "            num_pessoas refeicao               proteina\n",
       "data                                                   \n",
       "2019-03-01         3223   Almoço          Frango assado\n",
       "2019-03-07         3451   Almoço          Bife à gaucho\n",
       "2019-03-08         3494   Almoço        Frango mostarda\n",
       "2019-03-11         3914   Almoço              Churrasco\n",
       "2019-03-12         4114   Almoço         Frango ao sugo\n",
       "...                 ...      ...                    ...\n",
       "2019-06-12         3244   Almoço        Carne de panela\n",
       "2019-06-13         3436   Almoço       Peixe à milanesa\n",
       "2019-06-17         3117   Almoço                  Moída\n",
       "2019-06-18         3234   Almoço                   Bife\n",
       "2019-06-19         3575   Almoço  Estrogonofe de frango\n",
       "\n",
       "[69 rows x 3 columns]"
      ]
     },
     "execution_count": 75,
     "metadata": {},
     "output_type": "execute_result"
    }
   ],
   "source": [
    "data[clust.labels_ == 0]"
   ]
  },
  {
   "cell_type": "code",
   "execution_count": 244,
   "metadata": {},
   "outputs": [],
   "source": [
    "from fuzzywuzzy import fuzz, process\n",
    "\n",
    "def categoriza_proteinas(proteina):\n",
    "    classes = [\"frango assado\", \"frango cozido\", \"frango frito\", \"peixe cozido\", \"peixe frito\", \"bife\", \"carne moída\",\n",
    "               \"carne assada\", \"carne cozida\", \"bisteca\", \"quibe\", \"barreado\", \"vina\", \"suíno\",\n",
    "               \"frango a milanesa\", \"estrogonofe de carne\", \"estrogonofe de frango\",\n",
    "               \"tirinhas de champignon\", \"filé de frango\"\n",
    "              ]\n",
    "    palavras_chaves = {\"churrasco\": \"carne assada\",\n",
    "                       \"frango mostarda\": \"frango assado\",\n",
    "                       \"frango curry\": \"frango assado\",\n",
    "                       \"peixe milanesa\": \"peixe frito\",\n",
    "                       \"picadinho\": \"carne cozida\",\n",
    "                       \"ensopado caipira\": \"carne cozida\",\n",
    "                       \"frango ao sugo\": \"frango cozido\",\n",
    "                       \"carne de panela\": \"carne cozida\",\n",
    "                       \"frango xadrez\": \"frango cozido\"\n",
    "                      }\n",
    "    \n",
    "    proteina = proteina.lower()\n",
    "    if proteina in classes:\n",
    "        return proteina, 100\n",
    "    for classe in classes:\n",
    "        if classe in proteina:\n",
    "            return classe, 100\n",
    "    for chave in palavras_chaves:\n",
    "        valor = palavras_chaves[chave]\n",
    "        if fuzz.ratio(chave, proteina) >= 90:\n",
    "            return valor, fuzz.ratio(chave, proteina)\n",
    "    \n",
    "    melhor = process.extractOne(proteina, classes)\n",
    "    if melhor[1] >= 65:\n",
    "        return melhor\n",
    "    melhor = process.extractOne(proteina, palavras_chaves.keys())\n",
    "    if melhor[1] >= 65:\n",
    "        return palavras_chaves[melhor[0]], melhor[1]\n",
    "    \n",
    "    return np.nan, 0"
   ]
  },
  {
   "cell_type": "code",
   "execution_count": 245,
   "metadata": {
    "scrolled": false
   },
   "outputs": [
    {
     "data": {
      "text/html": [
       "<div>\n",
       "<style scoped>\n",
       "    .dataframe tbody tr th:only-of-type {\n",
       "        vertical-align: middle;\n",
       "    }\n",
       "\n",
       "    .dataframe tbody tr th {\n",
       "        vertical-align: top;\n",
       "    }\n",
       "\n",
       "    .dataframe thead th {\n",
       "        text-align: right;\n",
       "    }\n",
       "</style>\n",
       "<table border=\"1\" class=\"dataframe\">\n",
       "  <thead>\n",
       "    <tr style=\"text-align: right;\">\n",
       "      <th></th>\n",
       "      <th>num_pessoas</th>\n",
       "      <th>refeicao</th>\n",
       "      <th>proteina</th>\n",
       "      <th>cls_prot</th>\n",
       "      <th>cls_prot_score</th>\n",
       "    </tr>\n",
       "    <tr>\n",
       "      <th>data</th>\n",
       "      <th></th>\n",
       "      <th></th>\n",
       "      <th></th>\n",
       "      <th></th>\n",
       "      <th></th>\n",
       "    </tr>\n",
       "  </thead>\n",
       "  <tbody>\n",
       "    <tr>\n",
       "      <th>2019-03-01</th>\n",
       "      <td>3223</td>\n",
       "      <td>Almoço</td>\n",
       "      <td>Frango assado</td>\n",
       "      <td>frango assado</td>\n",
       "      <td>100</td>\n",
       "    </tr>\n",
       "    <tr>\n",
       "      <th>2019-03-07</th>\n",
       "      <td>3451</td>\n",
       "      <td>Almoço</td>\n",
       "      <td>Bife à gaucho</td>\n",
       "      <td>bife</td>\n",
       "      <td>100</td>\n",
       "    </tr>\n",
       "    <tr>\n",
       "      <th>2019-03-08</th>\n",
       "      <td>3494</td>\n",
       "      <td>Almoço</td>\n",
       "      <td>Frango mostarda</td>\n",
       "      <td>frango assado</td>\n",
       "      <td>100</td>\n",
       "    </tr>\n",
       "    <tr>\n",
       "      <th>2019-03-11</th>\n",
       "      <td>3914</td>\n",
       "      <td>Almoço</td>\n",
       "      <td>Churrasco</td>\n",
       "      <td>carne assada</td>\n",
       "      <td>100</td>\n",
       "    </tr>\n",
       "    <tr>\n",
       "      <th>2019-03-12</th>\n",
       "      <td>4114</td>\n",
       "      <td>Almoço</td>\n",
       "      <td>Frango ao sugo</td>\n",
       "      <td>frango cozido</td>\n",
       "      <td>100</td>\n",
       "    </tr>\n",
       "    <tr>\n",
       "      <th>...</th>\n",
       "      <td>...</td>\n",
       "      <td>...</td>\n",
       "      <td>...</td>\n",
       "      <td>...</td>\n",
       "      <td>...</td>\n",
       "    </tr>\n",
       "    <tr>\n",
       "      <th>2019-06-24</th>\n",
       "      <td>1851</td>\n",
       "      <td>Almoço</td>\n",
       "      <td>Picadinho</td>\n",
       "      <td>carne cozida</td>\n",
       "      <td>100</td>\n",
       "    </tr>\n",
       "    <tr>\n",
       "      <th>2019-06-25</th>\n",
       "      <td>2044</td>\n",
       "      <td>Almoço</td>\n",
       "      <td>Frango mostarda</td>\n",
       "      <td>frango assado</td>\n",
       "      <td>100</td>\n",
       "    </tr>\n",
       "    <tr>\n",
       "      <th>2019-06-26</th>\n",
       "      <td>1760</td>\n",
       "      <td>Almoço</td>\n",
       "      <td>Tirinhas de champignon</td>\n",
       "      <td>tirinhas de champignon</td>\n",
       "      <td>100</td>\n",
       "    </tr>\n",
       "    <tr>\n",
       "      <th>2019-06-27</th>\n",
       "      <td>2053</td>\n",
       "      <td>Almoço</td>\n",
       "      <td>Moída</td>\n",
       "      <td>carne moída</td>\n",
       "      <td>90</td>\n",
       "    </tr>\n",
       "    <tr>\n",
       "      <th>2019-06-28</th>\n",
       "      <td>1902</td>\n",
       "      <td>Almoço</td>\n",
       "      <td>Peixe</td>\n",
       "      <td>peixe cozido</td>\n",
       "      <td>90</td>\n",
       "    </tr>\n",
       "  </tbody>\n",
       "</table>\n",
       "<p>78 rows × 5 columns</p>\n",
       "</div>"
      ],
      "text/plain": [
       "            num_pessoas refeicao                proteina  \\\n",
       "data                                                       \n",
       "2019-03-01         3223   Almoço           Frango assado   \n",
       "2019-03-07         3451   Almoço           Bife à gaucho   \n",
       "2019-03-08         3494   Almoço         Frango mostarda   \n",
       "2019-03-11         3914   Almoço               Churrasco   \n",
       "2019-03-12         4114   Almoço          Frango ao sugo   \n",
       "...                 ...      ...                     ...   \n",
       "2019-06-24         1851   Almoço               Picadinho   \n",
       "2019-06-25         2044   Almoço         Frango mostarda   \n",
       "2019-06-26         1760   Almoço  Tirinhas de champignon   \n",
       "2019-06-27         2053   Almoço                   Moída   \n",
       "2019-06-28         1902   Almoço                   Peixe   \n",
       "\n",
       "                          cls_prot  cls_prot_score  \n",
       "data                                                \n",
       "2019-03-01           frango assado             100  \n",
       "2019-03-07                    bife             100  \n",
       "2019-03-08           frango assado             100  \n",
       "2019-03-11            carne assada             100  \n",
       "2019-03-12           frango cozido             100  \n",
       "...                            ...             ...  \n",
       "2019-06-24            carne cozida             100  \n",
       "2019-06-25           frango assado             100  \n",
       "2019-06-26  tirinhas de champignon             100  \n",
       "2019-06-27             carne moída              90  \n",
       "2019-06-28            peixe cozido              90  \n",
       "\n",
       "[78 rows x 5 columns]"
      ]
     },
     "execution_count": 245,
     "metadata": {},
     "output_type": "execute_result"
    }
   ],
   "source": [
    "data['cls_prot'] = data.proteina.apply(categoriza_proteinas)\n",
    "data['cls_prot_score'] = [x[1] for x in data['cls_prot']]\n",
    "data['cls_prot'] = [x[0] for x in data['cls_prot']]\n",
    "data"
   ]
  },
  {
   "cell_type": "code",
   "execution_count": 246,
   "metadata": {},
   "outputs": [
    {
     "data": {
      "text/html": [
       "<div>\n",
       "<style scoped>\n",
       "    .dataframe tbody tr th:only-of-type {\n",
       "        vertical-align: middle;\n",
       "    }\n",
       "\n",
       "    .dataframe tbody tr th {\n",
       "        vertical-align: top;\n",
       "    }\n",
       "\n",
       "    .dataframe thead th {\n",
       "        text-align: right;\n",
       "    }\n",
       "</style>\n",
       "<table border=\"1\" class=\"dataframe\">\n",
       "  <thead>\n",
       "    <tr style=\"text-align: right;\">\n",
       "      <th></th>\n",
       "      <th>num_pessoas</th>\n",
       "      <th>refeicao</th>\n",
       "      <th>proteina</th>\n",
       "      <th>cls_prot</th>\n",
       "      <th>cls_prot_score</th>\n",
       "    </tr>\n",
       "    <tr>\n",
       "      <th>data</th>\n",
       "      <th></th>\n",
       "      <th></th>\n",
       "      <th></th>\n",
       "      <th></th>\n",
       "      <th></th>\n",
       "    </tr>\n",
       "  </thead>\n",
       "  <tbody>\n",
       "    <tr>\n",
       "      <th>2019-04-09</th>\n",
       "      <td>4092</td>\n",
       "      <td>Almoço</td>\n",
       "      <td>Frango à paulista</td>\n",
       "      <td>frango assado</td>\n",
       "      <td>69</td>\n",
       "    </tr>\n",
       "    <tr>\n",
       "      <th>2019-03-26</th>\n",
       "      <td>4167</td>\n",
       "      <td>Almoço</td>\n",
       "      <td>Frango à paulista</td>\n",
       "      <td>frango assado</td>\n",
       "      <td>69</td>\n",
       "    </tr>\n",
       "    <tr>\n",
       "      <th>2019-06-28</th>\n",
       "      <td>1902</td>\n",
       "      <td>Almoço</td>\n",
       "      <td>Peixe</td>\n",
       "      <td>peixe cozido</td>\n",
       "      <td>90</td>\n",
       "    </tr>\n",
       "    <tr>\n",
       "      <th>2019-05-07</th>\n",
       "      <td>3924</td>\n",
       "      <td>Almoço</td>\n",
       "      <td>Frango</td>\n",
       "      <td>frango assado</td>\n",
       "      <td>90</td>\n",
       "    </tr>\n",
       "    <tr>\n",
       "      <th>2019-05-24</th>\n",
       "      <td>2985</td>\n",
       "      <td>Almoço</td>\n",
       "      <td>Moída</td>\n",
       "      <td>carne moída</td>\n",
       "      <td>90</td>\n",
       "    </tr>\n",
       "    <tr>\n",
       "      <th>2019-05-03</th>\n",
       "      <td>3391</td>\n",
       "      <td>Almoço</td>\n",
       "      <td>Moída</td>\n",
       "      <td>carne moída</td>\n",
       "      <td>90</td>\n",
       "    </tr>\n",
       "    <tr>\n",
       "      <th>2019-06-27</th>\n",
       "      <td>2053</td>\n",
       "      <td>Almoço</td>\n",
       "      <td>Moída</td>\n",
       "      <td>carne moída</td>\n",
       "      <td>90</td>\n",
       "    </tr>\n",
       "    <tr>\n",
       "      <th>2019-06-17</th>\n",
       "      <td>3117</td>\n",
       "      <td>Almoço</td>\n",
       "      <td>Moída</td>\n",
       "      <td>carne moída</td>\n",
       "      <td>90</td>\n",
       "    </tr>\n",
       "    <tr>\n",
       "      <th>2019-05-08</th>\n",
       "      <td>3553</td>\n",
       "      <td>Almoço</td>\n",
       "      <td>Moída</td>\n",
       "      <td>carne moída</td>\n",
       "      <td>90</td>\n",
       "    </tr>\n",
       "    <tr>\n",
       "      <th>2019-04-22</th>\n",
       "      <td>3337</td>\n",
       "      <td>Almoço</td>\n",
       "      <td>Moída</td>\n",
       "      <td>carne moída</td>\n",
       "      <td>90</td>\n",
       "    </tr>\n",
       "  </tbody>\n",
       "</table>\n",
       "</div>"
      ],
      "text/plain": [
       "            num_pessoas refeicao           proteina       cls_prot  \\\n",
       "data                                                                 \n",
       "2019-04-09         4092   Almoço  Frango à paulista  frango assado   \n",
       "2019-03-26         4167   Almoço  Frango à paulista  frango assado   \n",
       "2019-06-28         1902   Almoço              Peixe   peixe cozido   \n",
       "2019-05-07         3924   Almoço             Frango  frango assado   \n",
       "2019-05-24         2985   Almoço              Moída    carne moída   \n",
       "2019-05-03         3391   Almoço              Moída    carne moída   \n",
       "2019-06-27         2053   Almoço              Moída    carne moída   \n",
       "2019-06-17         3117   Almoço              Moída    carne moída   \n",
       "2019-05-08         3553   Almoço              Moída    carne moída   \n",
       "2019-04-22         3337   Almoço              Moída    carne moída   \n",
       "\n",
       "            cls_prot_score  \n",
       "data                        \n",
       "2019-04-09              69  \n",
       "2019-03-26              69  \n",
       "2019-06-28              90  \n",
       "2019-05-07              90  \n",
       "2019-05-24              90  \n",
       "2019-05-03              90  \n",
       "2019-06-27              90  \n",
       "2019-06-17              90  \n",
       "2019-05-08              90  \n",
       "2019-04-22              90  "
      ]
     },
     "execution_count": 246,
     "metadata": {},
     "output_type": "execute_result"
    }
   ],
   "source": [
    "data.sort_values(by='cls_prot_score').head(10)"
   ]
  },
  {
   "cell_type": "code",
   "execution_count": 247,
   "metadata": {
    "scrolled": true
   },
   "outputs": [
    {
     "data": {
      "text/plain": [
       "((0, 5), Empty DataFrame\n",
       " Columns: [num_pessoas, refeicao, proteina, cls_prot, cls_prot_score]\n",
       " Index: [])"
      ]
     },
     "execution_count": 247,
     "metadata": {},
     "output_type": "execute_result"
    }
   ],
   "source": [
    "df = data[data['cls_prot'].isnull()]\n",
    "df.shape, df"
   ]
  },
  {
   "cell_type": "code",
   "execution_count": 250,
   "metadata": {},
   "outputs": [
    {
     "data": {
      "text/plain": [
       "<matplotlib.axes._subplots.AxesSubplot at 0x7f4e9f8a6910>"
      ]
     },
     "execution_count": 250,
     "metadata": {},
     "output_type": "execute_result"
    },
    {
     "data": {
      "image/png": "[encoded data removed]",
      "text/plain": [
       "<Figure size 864x720 with 1 Axes>"
      ]
     },
     "metadata": {
      "needs_background": "light"
     },
     "output_type": "display_data"
    }
   ],
   "source": [
    "plt.figure(figsize=(12,10))\n",
    "sns.boxplot(data=data, x='num_pessoas', y='cls_prot')"
   ]
  }
 ],
 "metadata": {
  "@webio": {
   "lastCommId": null,
   "lastKernelId": null
  },
  "kernelspec": {
   "display_name": "Python 3",
   "language": "python",
   "name": "python3"
  },
  "language_info": {
   "codemirror_mode": {
    "name": "ipython",
    "version": 3
   },
   "file_extension": ".py",
   "mimetype": "text/x-python",
   "name": "python",
   "nbconvert_exporter": "python",
   "pygments_lexer": "ipython3",
   "version": "3.7.4"
  }
 },
 "nbformat": 4,
 "nbformat_minor": 2
}
